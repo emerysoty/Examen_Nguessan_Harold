{
 "cells": [
  {
   "cell_type": "code",
   "execution_count": 46,
   "id": "cbac7bd6-20b8-4fdb-ad4e-e2d6b00d091a",
   "metadata": {},
   "outputs": [
    {
     "data": {
      "text/plain": [
       "-5.0"
      ]
     },
     "execution_count": 46,
     "metadata": {},
     "output_type": "execute_result"
    }
   ],
   "source": [
    "#1-A)\n",
    "\n",
    "#nous creons une fonction qui prend la valeur x et nous fait le calcul de la fonction\n",
    "\n",
    "def fonction (x):\n",
    "    if x == 0:\n",
    "        x=1\n",
    "    function = (x**3) - (1.5*(x**2))- (6*x) + 5\n",
    "    return function\n",
    "fonction(2)\n"
   ]
  },
  {
   "cell_type": "code",
   "execution_count": 53,
   "id": "23d9f181-22fc-4752-9ad1-3fe3b942290f",
   "metadata": {},
   "outputs": [
    {
     "data": {
      "text/plain": [
       "1"
      ]
     },
     "execution_count": 53,
     "metadata": {},
     "output_type": "execute_result"
    }
   ],
   "source": [
    "#1-B)\n",
    "\n",
    "#nous creons une fonction qui prend la valeur n et nous fait le calcul de la fonction\n",
    "\n",
    "def factorielle (n): \n",
    "    start = 1\n",
    "    for i in range(1, n+1):\n",
    "        start = start * i\n",
    "    return start \n",
    "\n",
    "factorielle(1)"
   ]
  },
  {
   "cell_type": "code",
   "execution_count": 47,
   "id": "c1eb2dfc-e91a-4ead-b315-3edeb56f3182",
   "metadata": {},
   "outputs": [
    {
     "name": "stdin",
     "output_type": "stream",
     "text": [
      "Entrez un nombre:  7\n"
     ]
    },
    {
     "data": {
      "text/plain": [
       "[0, 1, 1, 2, 3, 5, 6]"
      ]
     },
     "execution_count": 47,
     "metadata": {},
     "output_type": "execute_result"
    }
   ],
   "source": [
    "#1-C) \n",
    "\n",
    "#nous creons une fonction qui prend la valeur n et nous fait le calcul de la fonction\n",
    "\n",
    "\n",
    "nombre = int(input(\"Entrez un nombre: \")) #variable qui permet a l'utilisateur de rentrer un nombre \n",
    "\n",
    "def fibonacci(n): \n",
    "    r=list(range(0,n))\n",
    "    r[0]=0\n",
    "    for i in r[2:N]:\n",
    "        r[i]=r[i-1]+r[i-2]\n",
    "    return r\n",
    "\n",
    "fibonacci(nombre)"
   ]
  },
  {
   "cell_type": "code",
   "execution_count": null,
   "id": "daf04c31-93ef-4004-afec-14fdf3af83a3",
   "metadata": {},
   "outputs": [],
   "source": [
    "#2) \n",
    "\n",
    "#Nous creons une boucle qui s'excecute moteur =True si erreur moteur = False et la boucle s'arrete\n",
    "moteur =True \n",
    "while moteur== True:\n",
    "    try:   \n",
    "        entrée = int(input(\"Entrez une nombre \")) #variable qui permet a l'utilisateur de rentrer un nombre \n",
    "\n",
    "        #nous creons une boucle qui lorque la variable entrée est negative, complexe, grand nombre nous affiche l'erreur sinon execute le code de la question \"FACTORIELLE\"\n",
    "        if entrée < 0 or entrée >=1000 or type(entrée) != int: \n",
    "            print(\"le nombre entrée est incorrect\")\n",
    "            moteur = False\n",
    "            \n",
    "        else:\n",
    "            start = 1\n",
    "            for i in range(1, entrée+1):\n",
    "                start = start * i\n",
    "            print(start)\n",
    "\n",
    "    except ValueError:\n",
    "        print(\"La valeur entrée est incorrect\")\n",
    "        moteur = False"
   ]
  },
  {
   "cell_type": "code",
   "execution_count": null,
   "id": "b248260d-d967-44db-bc7c-5d363d94d717",
   "metadata": {},
   "outputs": [],
   "source": []
  }
 ],
 "metadata": {
  "kernelspec": {
   "display_name": "Python 3 (ipykernel)",
   "language": "python",
   "name": "python3"
  },
  "language_info": {
   "codemirror_mode": {
    "name": "ipython",
    "version": 3
   },
   "file_extension": ".py",
   "mimetype": "text/x-python",
   "name": "python",
   "nbconvert_exporter": "python",
   "pygments_lexer": "ipython3",
   "version": "3.9.7"
  }
 },
 "nbformat": 4,
 "nbformat_minor": 5
}
